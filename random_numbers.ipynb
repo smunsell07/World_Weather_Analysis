{
 "cells": [
  {
   "cell_type": "code",
   "execution_count": 1,
   "id": "71756cb3",
   "metadata": {},
   "outputs": [],
   "source": [
    "import random"
   ]
  },
  {
   "cell_type": "code",
   "execution_count": 2,
   "id": "6ff5b128",
   "metadata": {},
   "outputs": [
    {
     "data": {
      "text/plain": [
       "0.201658869259697"
      ]
     },
     "execution_count": 2,
     "metadata": {},
     "output_type": "execute_result"
    }
   ],
   "source": [
    "random.random()"
   ]
  },
  {
   "cell_type": "code",
   "execution_count": 10,
   "id": "8b052712",
   "metadata": {},
   "outputs": [
    {
     "data": {
      "text/plain": [
       "-84"
      ]
     },
     "execution_count": 10,
     "metadata": {},
     "output_type": "execute_result"
    }
   ],
   "source": [
    "random.randint(-90,90)"
   ]
  },
  {
   "cell_type": "code",
   "execution_count": 7,
   "id": "7ea5dc75",
   "metadata": {},
   "outputs": [
    {
     "data": {
      "text/plain": [
       "-3"
      ]
     },
     "execution_count": 7,
     "metadata": {},
     "output_type": "execute_result"
    }
   ],
   "source": [
    "random.randrange(-9,9,2)"
   ]
  },
  {
   "cell_type": "code",
   "execution_count": 9,
   "id": "ad6c1042",
   "metadata": {},
   "outputs": [
    {
     "data": {
      "text/plain": [
       "4.293001897833868"
      ]
     },
     "execution_count": 9,
     "metadata": {},
     "output_type": "execute_result"
    }
   ],
   "source": [
    "random.uniform(-10,10)"
   ]
  },
  {
   "cell_type": "code",
   "execution_count": 12,
   "id": "d27a3d67",
   "metadata": {},
   "outputs": [
    {
     "data": {
      "text/plain": [
       "47.95920899072578"
      ]
     },
     "execution_count": 12,
     "metadata": {},
     "output_type": "execute_result"
    }
   ],
   "source": [
    "random_number=random.randint(-90,89)+random.random()\n",
    "random_number"
   ]
  },
  {
   "cell_type": "code",
   "execution_count": 14,
   "id": "c6b863bc",
   "metadata": {},
   "outputs": [
    {
     "data": {
      "text/plain": [
       "[26.4097505861784,\n",
       " 57.709636875236214,\n",
       " 83.49869963610345,\n",
       " -22.221584486409462,\n",
       " -70.39140093513345,\n",
       " -79.42886990580166,\n",
       " 2.928793498106449,\n",
       " 40.136451144370156,\n",
       " -8.389342806087768,\n",
       " 58.199120477828146]"
      ]
     },
     "execution_count": 14,
     "metadata": {},
     "output_type": "execute_result"
    }
   ],
   "source": [
    "x=1\n",
    "latitudes=[]\n",
    "while x<11:\n",
    "    random_lat=random_number=random.randint(-90,89)+random.random()\n",
    "    latitudes.append(random_lat)\n",
    "    x+=1\n",
    "    \n",
    "latitudes"
   ]
  },
  {
   "cell_type": "code",
   "execution_count": 16,
   "id": "04e1ccb4",
   "metadata": {},
   "outputs": [
    {
     "data": {
      "text/plain": [
       "-78"
      ]
     },
     "execution_count": 16,
     "metadata": {},
     "output_type": "execute_result"
    }
   ],
   "source": [
    "random.randrange(-90,90,1)"
   ]
  },
  {
   "cell_type": "code",
   "execution_count": 17,
   "id": "bca3ceb9",
   "metadata": {},
   "outputs": [
    {
     "data": {
      "text/plain": [
       "81"
      ]
     },
     "execution_count": 17,
     "metadata": {},
     "output_type": "execute_result"
    }
   ],
   "source": [
    "random.randrange(-90,90,3)"
   ]
  },
  {
   "cell_type": "code",
   "execution_count": 18,
   "id": "ac0fa405",
   "metadata": {},
   "outputs": [
    {
     "data": {
      "text/plain": [
       "11.10254830166204"
      ]
     },
     "execution_count": 18,
     "metadata": {},
     "output_type": "execute_result"
    }
   ],
   "source": [
    "random.uniform(-90,90)"
   ]
  },
  {
   "cell_type": "code",
   "execution_count": 21,
   "id": "8d82111c",
   "metadata": {},
   "outputs": [
    {
     "data": {
      "text/plain": [
       "array([  9.36292211, -49.22914172,  -9.28539361, -35.68825714,\n",
       "        54.7033238 ,  79.78399616,  42.91360816, -41.00622058,\n",
       "        29.14704126,  75.6997922 , -43.75034883, -89.31615725,\n",
       "       -75.43896857, -82.20419026,  13.90549284, -22.08292801,\n",
       "        -0.88301519,  -7.17651715, -56.22698584, -83.87498934,\n",
       "        55.78949469,  44.89876524,  29.69520407,   7.18302646,\n",
       "        20.8488882 ,   1.12931421,  33.03542194, -63.80430171,\n",
       "        19.65259663,  86.68439547, -59.68263967,  76.62498424,\n",
       "       -43.49969265,  44.92484375, -18.90812898, -78.25259401,\n",
       "        42.06974486,  57.30469239, -55.88688225,  76.53026772,\n",
       "        54.81341754,  45.75962771,  69.6440382 ,  52.64234781,\n",
       "        60.05646348,  56.61372835, -86.37091557, -82.4123411 ,\n",
       "        87.09762933,  44.39105033])"
      ]
     },
     "execution_count": 21,
     "metadata": {},
     "output_type": "execute_result"
    }
   ],
   "source": [
    "# import NumPy module\n",
    "import numpy as np\n",
    "\n",
    "np.random.uniform(-90.000,90.000, size=50)\n"
   ]
  },
  {
   "cell_type": "code",
   "execution_count": 22,
   "id": "dbf53c9f",
   "metadata": {},
   "outputs": [],
   "source": [
    "# Import timeit\n",
    "import timeit"
   ]
  },
  {
   "cell_type": "code",
   "execution_count": 35,
   "id": "c560e585",
   "metadata": {},
   "outputs": [
    {
     "name": "stdout",
     "output_type": "stream",
     "text": [
      "17.7 µs ± 472 ns per loop (mean ± std. dev. of 7 runs, 100000 loops each)\n"
     ]
    }
   ],
   "source": [
    "%timeit np.random.uniform(-90.000,90.000, size=1500)"
   ]
  },
  {
   "cell_type": "code",
   "execution_count": 38,
   "id": "806fdad8",
   "metadata": {},
   "outputs": [
    {
     "name": "stdout",
     "output_type": "stream",
     "text": [
      "2.56 ms ± 270 µs per loop (mean ± std. dev. of 7 runs, 100 loops each)\n"
     ]
    }
   ],
   "source": [
    "def latitudes(size):\n",
    "    latitudes=[]\n",
    "    x=0\n",
    "    while x<(size):\n",
    "        random_lat=random.randint(-90,90)+random.random()\n",
    "        latitudes.append(random_lat)\n",
    "        x+=1\n",
    "    return latitudes\n",
    "\n",
    "# Call the function with 1500\n",
    "%timeit latitudes(1500)"
   ]
  },
  {
   "cell_type": "code",
   "execution_count": null,
   "id": "9231e835",
   "metadata": {},
   "outputs": [],
   "source": [
    "# Skill Drill\n",
    "#x=1\n",
    "#latitudes=[]\n",
    "#while x<1501:\n",
    "#    random_lat=random_number=random.randint(-90,89)+random.random()\n",
    "#    latitudes.append(random_lat)\n",
    "#    x+=1\n",
    "    \n",
    "# print(latitudes)"
   ]
  }
 ],
 "metadata": {
  "kernelspec": {
   "display_name": "PythonData",
   "language": "python",
   "name": "pythondata"
  },
  "language_info": {
   "codemirror_mode": {
    "name": "ipython",
    "version": 3
   },
   "file_extension": ".py",
   "mimetype": "text/x-python",
   "name": "python",
   "nbconvert_exporter": "python",
   "pygments_lexer": "ipython3",
   "version": "3.7.11"
  }
 },
 "nbformat": 4,
 "nbformat_minor": 5
}
